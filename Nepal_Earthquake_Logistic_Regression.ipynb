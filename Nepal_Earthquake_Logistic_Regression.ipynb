{
 "cells": [
  {
   "cell_type": "markdown",
   "id": "63531a29",
   "metadata": {},
   "source": [
    "# Earthquake Damage in Nepal"
   ]
  },
  {
   "cell_type": "markdown",
   "id": "e8ba756a",
   "metadata": {},
   "source": [
    "#### Project Objective"
   ]
  },
  {
   "cell_type": "markdown",
   "id": "05c4b1e1",
   "metadata": {},
   "source": [
    "In this project, we utilize Nepal Earthquake data obtained from the Kaggle platform, accessible via the provided link. The objective is to build a predictive model. By importing the data from PostgreSQL and considering the characteristics of buildings, the aim is to predict whether a building is likely to experience similar damage in the event of a comparable earthquake."
   ]
  },
  {
   "cell_type": "code",
   "execution_count": null,
   "id": "5da08a66",
   "metadata": {},
   "outputs": [],
   "source": []
  },
  {
   "cell_type": "code",
   "execution_count": 38,
   "id": "31ec61eb",
   "metadata": {},
   "outputs": [],
   "source": [
    "import pandas as pd\n",
    "import pandas.io.sql as sqlio\n",
    "import psycopg2 as ps\n",
    "\n",
    "import matplotlib.pyplot as plt\n",
    "import numpy as np\n",
    "import seaborn as sns\n",
    "from category_encoders import OneHotEncoder\n",
    "from category_encoders import OrdinalEncoder\n",
    "from sklearn.linear_model import LogisticRegression\n",
    "from sklearn.tree import DecisionTreeClassifier, plot_tree\n",
    "from sklearn.metrics import accuracy_score\n",
    "from sklearn.model_selection import train_test_split\n",
    "from sklearn.pipeline import Pipeline, make_pipeline"
   ]
  },
  {
   "cell_type": "code",
   "execution_count": 39,
   "id": "1dad27cb",
   "metadata": {},
   "outputs": [],
   "source": [
    "con = ps.connect(dbname=\"nepal_earthquake\",\n",
    "                user = \"postgres\",\n",
    "                password = \"MH329923\",\n",
    "                host = \"localhost\",\n",
    "                port = \"5433\")"
   ]
  },
  {
   "cell_type": "code",
   "execution_count": 40,
   "id": "a0251eb0",
   "metadata": {},
   "outputs": [],
   "source": [
    "sql = \"\"\"SELECT * \n",
    "        FROM building_df\"\"\""
   ]
  },
  {
   "cell_type": "code",
   "execution_count": 41,
   "id": "d389f9d4",
   "metadata": {},
   "outputs": [
    {
     "name": "stderr",
     "output_type": "stream",
     "text": [
      "C:\\Users\\Vaibhav\\AppData\\Local\\Temp\\ipykernel_7364\\2699896095.py:1: UserWarning: pandas only supports SQLAlchemy connectable (engine/connection) or database string URI or sqlite3 DBAPI2 connection. Other DBAPI2 objects are not tested. Please consider using SQLAlchemy.\n",
      "  df = sqlio.read_sql_query(sql, con)\n"
     ]
    }
   ],
   "source": [
    "df = sqlio.read_sql_query(sql, con)"
   ]
  },
  {
   "cell_type": "code",
   "execution_count": 42,
   "id": "47eaad93",
   "metadata": {},
   "outputs": [
    {
     "data": {
      "text/html": [
       "<div>\n",
       "<style scoped>\n",
       "    .dataframe tbody tr th:only-of-type {\n",
       "        vertical-align: middle;\n",
       "    }\n",
       "\n",
       "    .dataframe tbody tr th {\n",
       "        vertical-align: top;\n",
       "    }\n",
       "\n",
       "    .dataframe thead th {\n",
       "        text-align: right;\n",
       "    }\n",
       "</style>\n",
       "<table border=\"1\" class=\"dataframe\">\n",
       "  <thead>\n",
       "    <tr style=\"text-align: right;\">\n",
       "      <th></th>\n",
       "      <th>building_id</th>\n",
       "      <th>age_building</th>\n",
       "      <th>plinth_area_sq_ft</th>\n",
       "      <th>height_ft_pre_eq</th>\n",
       "      <th>height_ft_post_eq</th>\n",
       "      <th>land_surface_condition</th>\n",
       "      <th>foundation_type</th>\n",
       "      <th>roof_type</th>\n",
       "      <th>ground_floor_type</th>\n",
       "      <th>other_floor_type</th>\n",
       "      <th>position</th>\n",
       "      <th>plan_configuration</th>\n",
       "      <th>damage_grade</th>\n",
       "      <th>superstructure</th>\n",
       "    </tr>\n",
       "  </thead>\n",
       "  <tbody>\n",
       "    <tr>\n",
       "      <th>0</th>\n",
       "      <td>120101000011</td>\n",
       "      <td>9</td>\n",
       "      <td>288</td>\n",
       "      <td>9</td>\n",
       "      <td>9</td>\n",
       "      <td>Flat</td>\n",
       "      <td>Other</td>\n",
       "      <td>Bamboo/Timber-Light roof</td>\n",
       "      <td>Mud</td>\n",
       "      <td>Not applicable</td>\n",
       "      <td>Not attached</td>\n",
       "      <td>Rectangular</td>\n",
       "      <td>Grade 3</td>\n",
       "      <td>has_superstructure_mud_mortar_stone</td>\n",
       "    </tr>\n",
       "    <tr>\n",
       "      <th>1</th>\n",
       "      <td>120101000021</td>\n",
       "      <td>15</td>\n",
       "      <td>364</td>\n",
       "      <td>9</td>\n",
       "      <td>9</td>\n",
       "      <td>Flat</td>\n",
       "      <td>Other</td>\n",
       "      <td>Bamboo/Timber-Light roof</td>\n",
       "      <td>Mud</td>\n",
       "      <td>Not applicable</td>\n",
       "      <td>Not attached</td>\n",
       "      <td>Rectangular</td>\n",
       "      <td>Grade 5</td>\n",
       "      <td>has_superstructure_mud_mortar_stone</td>\n",
       "    </tr>\n",
       "    <tr>\n",
       "      <th>2</th>\n",
       "      <td>120101000031</td>\n",
       "      <td>20</td>\n",
       "      <td>384</td>\n",
       "      <td>9</td>\n",
       "      <td>9</td>\n",
       "      <td>Flat</td>\n",
       "      <td>Other</td>\n",
       "      <td>Bamboo/Timber-Light roof</td>\n",
       "      <td>Mud</td>\n",
       "      <td>Not applicable</td>\n",
       "      <td>Not attached</td>\n",
       "      <td>Rectangular</td>\n",
       "      <td>Grade 2</td>\n",
       "      <td>has_superstructure_mud_mortar_stone</td>\n",
       "    </tr>\n",
       "    <tr>\n",
       "      <th>3</th>\n",
       "      <td>120101000041</td>\n",
       "      <td>20</td>\n",
       "      <td>312</td>\n",
       "      <td>9</td>\n",
       "      <td>9</td>\n",
       "      <td>Flat</td>\n",
       "      <td>Other</td>\n",
       "      <td>Bamboo/Timber-Light roof</td>\n",
       "      <td>Mud</td>\n",
       "      <td>Not applicable</td>\n",
       "      <td>Not attached</td>\n",
       "      <td>Rectangular</td>\n",
       "      <td>Grade 2</td>\n",
       "      <td>has_superstructure_mud_mortar_stone</td>\n",
       "    </tr>\n",
       "    <tr>\n",
       "      <th>4</th>\n",
       "      <td>120101000051</td>\n",
       "      <td>30</td>\n",
       "      <td>308</td>\n",
       "      <td>9</td>\n",
       "      <td>9</td>\n",
       "      <td>Flat</td>\n",
       "      <td>Other</td>\n",
       "      <td>Bamboo/Timber-Light roof</td>\n",
       "      <td>Mud</td>\n",
       "      <td>Not applicable</td>\n",
       "      <td>Not attached</td>\n",
       "      <td>Rectangular</td>\n",
       "      <td>Grade 1</td>\n",
       "      <td>has_superstructure_mud_mortar_stone</td>\n",
       "    </tr>\n",
       "  </tbody>\n",
       "</table>\n",
       "</div>"
      ],
      "text/plain": [
       "    building_id  age_building  plinth_area_sq_ft  height_ft_pre_eq  \\\n",
       "0  120101000011             9                288                 9   \n",
       "1  120101000021            15                364                 9   \n",
       "2  120101000031            20                384                 9   \n",
       "3  120101000041            20                312                 9   \n",
       "4  120101000051            30                308                 9   \n",
       "\n",
       "   height_ft_post_eq land_surface_condition foundation_type  \\\n",
       "0                  9                   Flat           Other   \n",
       "1                  9                   Flat           Other   \n",
       "2                  9                   Flat           Other   \n",
       "3                  9                   Flat           Other   \n",
       "4                  9                   Flat           Other   \n",
       "\n",
       "                  roof_type ground_floor_type other_floor_type      position  \\\n",
       "0  Bamboo/Timber-Light roof               Mud   Not applicable  Not attached   \n",
       "1  Bamboo/Timber-Light roof               Mud   Not applicable  Not attached   \n",
       "2  Bamboo/Timber-Light roof               Mud   Not applicable  Not attached   \n",
       "3  Bamboo/Timber-Light roof               Mud   Not applicable  Not attached   \n",
       "4  Bamboo/Timber-Light roof               Mud   Not applicable  Not attached   \n",
       "\n",
       "  plan_configuration damage_grade                       superstructure  \n",
       "0        Rectangular      Grade 3  has_superstructure_mud_mortar_stone  \n",
       "1        Rectangular      Grade 5  has_superstructure_mud_mortar_stone  \n",
       "2        Rectangular      Grade 2  has_superstructure_mud_mortar_stone  \n",
       "3        Rectangular      Grade 2  has_superstructure_mud_mortar_stone  \n",
       "4        Rectangular      Grade 1  has_superstructure_mud_mortar_stone  "
      ]
     },
     "execution_count": 42,
     "metadata": {},
     "output_type": "execute_result"
    }
   ],
   "source": [
    "df.head()"
   ]
  },
  {
   "cell_type": "markdown",
   "id": "87c5d510",
   "metadata": {},
   "source": [
    "## Explore"
   ]
  },
  {
   "cell_type": "code",
   "execution_count": 43,
   "id": "584738ff",
   "metadata": {},
   "outputs": [
    {
     "data": {
      "text/plain": [
       "(762106, 14)"
      ]
     },
     "execution_count": 43,
     "metadata": {},
     "output_type": "execute_result"
    }
   ],
   "source": [
    "df.shape"
   ]
  },
  {
   "cell_type": "markdown",
   "id": "781d6f29",
   "metadata": {},
   "source": [
    "The dataset contains 762106 rows and 21 columns"
   ]
  },
  {
   "cell_type": "code",
   "execution_count": 44,
   "id": "f40bb920",
   "metadata": {},
   "outputs": [
    {
     "name": "stdout",
     "output_type": "stream",
     "text": [
      "<class 'pandas.core.frame.DataFrame'>\n",
      "RangeIndex: 762106 entries, 0 to 762105\n",
      "Data columns (total 14 columns):\n",
      " #   Column                  Non-Null Count   Dtype \n",
      "---  ------                  --------------   ----- \n",
      " 0   building_id             762106 non-null  int64 \n",
      " 1   age_building            762106 non-null  int64 \n",
      " 2   plinth_area_sq_ft       762106 non-null  int64 \n",
      " 3   height_ft_pre_eq        762106 non-null  int64 \n",
      " 4   height_ft_post_eq       762106 non-null  int64 \n",
      " 5   land_surface_condition  762106 non-null  object\n",
      " 6   foundation_type         762106 non-null  object\n",
      " 7   roof_type               762106 non-null  object\n",
      " 8   ground_floor_type       762106 non-null  object\n",
      " 9   other_floor_type        762106 non-null  object\n",
      " 10  position                762105 non-null  object\n",
      " 11  plan_configuration      762105 non-null  object\n",
      " 12  damage_grade            762094 non-null  object\n",
      " 13  superstructure          762106 non-null  object\n",
      "dtypes: int64(5), object(9)\n",
      "memory usage: 81.4+ MB\n"
     ]
    }
   ],
   "source": [
    "df.info()"
   ]
  },
  {
   "cell_type": "code",
   "execution_count": 45,
   "id": "cb9436e1",
   "metadata": {
    "scrolled": true
   },
   "outputs": [
    {
     "data": {
      "text/plain": [
       "building_id                0\n",
       "age_building               0\n",
       "plinth_area_sq_ft          0\n",
       "height_ft_pre_eq           0\n",
       "height_ft_post_eq          0\n",
       "land_surface_condition     0\n",
       "foundation_type            0\n",
       "roof_type                  0\n",
       "ground_floor_type          0\n",
       "other_floor_type           0\n",
       "position                   1\n",
       "plan_configuration         1\n",
       "damage_grade              12\n",
       "superstructure             0\n",
       "dtype: int64"
      ]
     },
     "execution_count": 45,
     "metadata": {},
     "output_type": "execute_result"
    }
   ],
   "source": [
    "# exploring null values\n",
    "df.isnull().sum()"
   ]
  },
  {
   "cell_type": "code",
   "execution_count": 46,
   "id": "24e394d8",
   "metadata": {},
   "outputs": [],
   "source": [
    "df = df.dropna()"
   ]
  },
  {
   "cell_type": "code",
   "execution_count": 47,
   "id": "5d09d3da",
   "metadata": {},
   "outputs": [],
   "source": [
    "df.set_index('building_id', inplace=True)"
   ]
  },
  {
   "cell_type": "code",
   "execution_count": 48,
   "id": "837fb181",
   "metadata": {},
   "outputs": [
    {
     "data": {
      "text/plain": [
       "age_building              0\n",
       "plinth_area_sq_ft         0\n",
       "height_ft_pre_eq          0\n",
       "height_ft_post_eq         0\n",
       "land_surface_condition    0\n",
       "foundation_type           0\n",
       "roof_type                 0\n",
       "ground_floor_type         0\n",
       "other_floor_type          0\n",
       "position                  0\n",
       "plan_configuration        0\n",
       "damage_grade              0\n",
       "superstructure            0\n",
       "dtype: int64"
      ]
     },
     "execution_count": 48,
     "metadata": {},
     "output_type": "execute_result"
    }
   ],
   "source": [
    "df.isnull().sum()"
   ]
  },
  {
   "cell_type": "markdown",
   "id": "99edaa79",
   "metadata": {},
   "source": [
    "Main focus will be on damage sustende by the building"
   ]
  },
  {
   "cell_type": "code",
   "execution_count": 49,
   "id": "68fa135f",
   "metadata": {},
   "outputs": [
    {
     "data": {
      "text/plain": [
       "Grade 5    275766\n",
       "Grade 4    183844\n",
       "Grade 3    136412\n",
       "Grade 2     87257\n",
       "Grade 1     78815\n",
       "Name: damage_grade, dtype: int64"
      ]
     },
     "execution_count": 49,
     "metadata": {},
     "output_type": "execute_result"
    }
   ],
   "source": [
    "df[\"damage_grade\"].value_counts()"
   ]
  },
  {
   "cell_type": "code",
   "execution_count": 50,
   "id": "4df19182",
   "metadata": {},
   "outputs": [
    {
     "data": {
      "image/png": "[encoded data removed]",
      "text/plain": [
       "<Figure size 640x480 with 1 Axes>"
      ]
     },
     "metadata": {},
     "output_type": "display_data"
    }
   ],
   "source": [
    "df[\"damage_grade\"].value_counts().plot(kind='bar')\n",
    "plt.xlabel(\"Categories\")\n",
    "plt.ylabel(\"Counts\")\n",
    "plt.title(\"Damage grade Distribution\")\n",
    "plt.show();"
   ]
  },
  {
   "cell_type": "markdown",
   "id": "b887884e",
   "metadata": {},
   "source": [
    "We will make a new column \"severe_damage\" to classify the damage. For buildings where the \"damage_grade\" is Grade 4 or above, \"severe_damage\" should be 1. for all other buildings \"severe_damage\" should be 0. Then droping the damage_column. "
   ]
  },
  {
   "cell_type": "code",
   "execution_count": 51,
   "id": "5c8d13f9",
   "metadata": {},
   "outputs": [],
   "source": [
    "# first change into integer\n",
    "df[\"damage_grade\"] = df[\"damage_grade\"].str[-1].astype(int)\n",
    "# creating new column\n",
    "df[\"severe_damage\"] = (df[\"damage_grade\"]>3).astype(int)\n",
    "df.drop(columns=[\"damage_grade\"], inplace=True)"
   ]
  },
  {
   "cell_type": "code",
   "execution_count": 52,
   "id": "a2d90bc8",
   "metadata": {},
   "outputs": [
    {
     "name": "stdout",
     "output_type": "stream",
     "text": [
      "<class 'pandas.core.frame.DataFrame'>\n",
      "Int64Index: 762094 entries, 120101000011 to 366709001281\n",
      "Data columns (total 13 columns):\n",
      " #   Column                  Non-Null Count   Dtype \n",
      "---  ------                  --------------   ----- \n",
      " 0   age_building            762094 non-null  int64 \n",
      " 1   plinth_area_sq_ft       762094 non-null  int64 \n",
      " 2   height_ft_pre_eq        762094 non-null  int64 \n",
      " 3   height_ft_post_eq       762094 non-null  int64 \n",
      " 4   land_surface_condition  762094 non-null  object\n",
      " 5   foundation_type         762094 non-null  object\n",
      " 6   roof_type               762094 non-null  object\n",
      " 7   ground_floor_type       762094 non-null  object\n",
      " 8   other_floor_type        762094 non-null  object\n",
      " 9   position                762094 non-null  object\n",
      " 10  plan_configuration      762094 non-null  object\n",
      " 11  superstructure          762094 non-null  object\n",
      " 12  severe_damage           762094 non-null  int32 \n",
      "dtypes: int32(1), int64(4), object(8)\n",
      "memory usage: 78.5+ MB\n"
     ]
    }
   ],
   "source": [
    "df.info()"
   ]
  },
  {
   "cell_type": "code",
   "execution_count": 53,
   "id": "c4f086f0",
   "metadata": {},
   "outputs": [],
   "source": [
    "# removing the post earthquake columns because we want to predict before it.\n",
    "drop_cols = [col for col in df.columns if \"post_eq\" in col]\n",
    "df.drop(columns=drop_cols, inplace=True)"
   ]
  },
  {
   "cell_type": "code",
   "execution_count": 54,
   "id": "81bf069f",
   "metadata": {
    "scrolled": false
   },
   "outputs": [
    {
     "data": {
      "image/png": "[encoded data removed]",
      "text/plain": [
       "<Figure size 640x480 with 2 Axes>"
      ]
     },
     "metadata": {},
     "output_type": "display_data"
    }
   ],
   "source": [
    "# Creating a correlation matrix\n",
    "correlation = df.select_dtypes(\"number\").drop(columns= \"severe_damage\").corr()\n",
    "# plot heatmap of correlation\n",
    "sns.heatmap(correlation);"
   ]
  },
  {
   "cell_type": "markdown",
   "id": "c248641d",
   "metadata": {},
   "source": [
    "There is no multicolinearity between numerical data"
   ]
  },
  {
   "cell_type": "code",
   "execution_count": 55,
   "id": "ab26c25d",
   "metadata": {},
   "outputs": [
    {
     "data": {
      "image/png": "[encoded data removed]",
      "text/plain": [
       "<Figure size 640x480 with 1 Axes>"
      ]
     },
     "metadata": {},
     "output_type": "display_data"
    }
   ],
   "source": [
    "# Create boxplot\n",
    "sns.boxplot(x=\"severe_damage\", y =\"height_ft_pre_eq\", data=df)\n",
    "# Label axes\n",
    "plt.xlabel(\"Severe Damage\")\n",
    "plt.ylabel(\"Height Pre-earthquake [ft.]\")\n",
    "plt.title(\"Distribution of Building Height by Class\");"
   ]
  },
  {
   "cell_type": "markdown",
   "id": "e5924523",
   "metadata": {},
   "source": [
    "* Observation: It shows identical distribution of damage based on height, there is no much difference  "
   ]
  },
  {
   "cell_type": "code",
   "execution_count": 56,
   "id": "51294b84",
   "metadata": {},
   "outputs": [
    {
     "data": {
      "text/plain": [
       "1    0.603088\n",
       "0    0.396912\n",
       "Name: severe_damage, dtype: float64"
      ]
     },
     "execution_count": 56,
     "metadata": {},
     "output_type": "execute_result"
    }
   ],
   "source": [
    "# Relative proportion of severe_damage\n",
    "df[\"severe_damage\"].value_counts(normalize=True)"
   ]
  },
  {
   "cell_type": "code",
   "execution_count": 57,
   "id": "ce250c81",
   "metadata": {},
   "outputs": [
    {
     "data": {
      "image/png": "[encoded data removed]",
      "text/plain": [
       "<Figure size 640x480 with 1 Axes>"
      ]
     },
     "metadata": {},
     "output_type": "display_data"
    }
   ],
   "source": [
    "# plot count of \"severe_damage\"\n",
    "df[\"severe_damage\"].value_counts(normalize=True).plot(\n",
    "    kind=\"bar\", xlabel=\"class\", ylabel=\"Relative Frequency\", title = \"Class Balance\");"
   ]
  },
  {
   "cell_type": "markdown",
   "id": "5885b1de",
   "metadata": {},
   "source": [
    "* Observation: The positive class(1) and negative class(0) are in 60-40 ratio so it's Okay class."
   ]
  },
  {
   "cell_type": "code",
   "execution_count": 58,
   "id": "4f126337",
   "metadata": {},
   "outputs": [
    {
     "name": "stdout",
     "output_type": "stream",
     "text": [
      "0.6030883329353072 0.39691166706469283\n"
     ]
    }
   ],
   "source": [
    "# class distribution\n",
    "majority_class_prop, minority_class_prop = df[\"severe_damage\"].value_counts(normalize=True)\n",
    "print(majority_class_prop, minority_class_prop)"
   ]
  },
  {
   "cell_type": "code",
   "execution_count": 59,
   "id": "e79a4904",
   "metadata": {},
   "outputs": [
    {
     "data": {
      "text/html": [
       "<div>\n",
       "<style scoped>\n",
       "    .dataframe tbody tr th:only-of-type {\n",
       "        vertical-align: middle;\n",
       "    }\n",
       "\n",
       "    .dataframe tbody tr th {\n",
       "        vertical-align: top;\n",
       "    }\n",
       "\n",
       "    .dataframe thead th {\n",
       "        text-align: right;\n",
       "    }\n",
       "</style>\n",
       "<table border=\"1\" class=\"dataframe\">\n",
       "  <thead>\n",
       "    <tr style=\"text-align: right;\">\n",
       "      <th></th>\n",
       "      <th>severe_damage</th>\n",
       "    </tr>\n",
       "    <tr>\n",
       "      <th>foundation_type</th>\n",
       "      <th></th>\n",
       "    </tr>\n",
       "  </thead>\n",
       "  <tbody>\n",
       "    <tr>\n",
       "      <th>RC</th>\n",
       "      <td>0.038263</td>\n",
       "    </tr>\n",
       "    <tr>\n",
       "      <th>Bamboo/Timber</th>\n",
       "      <td>0.237855</td>\n",
       "    </tr>\n",
       "    <tr>\n",
       "      <th>Cement-Stone/Brick</th>\n",
       "      <td>0.296904</td>\n",
       "    </tr>\n",
       "    <tr>\n",
       "      <th>Other</th>\n",
       "      <td>0.510545</td>\n",
       "    </tr>\n",
       "    <tr>\n",
       "      <th>Mud mortar-Stone/Brick</th>\n",
       "      <td>0.685115</td>\n",
       "    </tr>\n",
       "  </tbody>\n",
       "</table>\n",
       "</div>"
      ],
      "text/plain": [
       "                        severe_damage\n",
       "foundation_type                      \n",
       "RC                           0.038263\n",
       "Bamboo/Timber                0.237855\n",
       "Cement-Stone/Brick           0.296904\n",
       "Other                        0.510545\n",
       "Mud mortar-Stone/Brick       0.685115"
      ]
     },
     "execution_count": 59,
     "metadata": {},
     "output_type": "execute_result"
    }
   ],
   "source": [
    "# Create pivot table\n",
    "foundation_pivot = pd.pivot_table(df, index=\"foundation_type\", values=\"severe_damage\", aggfunc=np.mean\n",
    "                                 ).sort_values(by=\"severe_damage\")\n",
    "foundation_pivot"
   ]
  },
  {
   "cell_type": "code",
   "execution_count": 60,
   "id": "3e12f90d",
   "metadata": {},
   "outputs": [
    {
     "data": {
      "image/png": "[encoded data removed]",
      "text/plain": [
       "<Figure size 640x480 with 1 Axes>"
      ]
     },
     "metadata": {},
     "output_type": "display_data"
    }
   ],
   "source": [
    "# lets see the upper table in picture form. plot bar chart of foundation_pivot\n",
    "foundation_pivot.plot(kind=\"barh\", legend=None)\n",
    "plt.axvline(\n",
    "    majority_class_prop, linestyle=\"--\", color=\"red\", label=\"majority class\")\n",
    "plt.axvline(\n",
    "    minority_class_prop, linestyle=\"--\", color=\"green\", label=\"minority class\")\n",
    "plt.legend(loc=\"lower right\");"
   ]
  },
  {
   "cell_type": "markdown",
   "id": "33e92d2d",
   "metadata": {},
   "source": [
    "* Observation: 'Mud mortar-Stone/Brick' foundation is way above the majority boundry. on other side the RC(Reinforced concreate) have much lower severely damage buildings. Foundation of the building really matters in the for safety. "
   ]
  },
  {
   "cell_type": "code",
   "execution_count": 61,
   "id": "f2926df0",
   "metadata": {},
   "outputs": [
    {
     "data": {
      "text/plain": [
       "land_surface_condition     3\n",
       "foundation_type            5\n",
       "roof_type                  3\n",
       "ground_floor_type          5\n",
       "other_floor_type           4\n",
       "position                   4\n",
       "plan_configuration        10\n",
       "superstructure            11\n",
       "dtype: int64"
      ]
     },
     "execution_count": 61,
     "metadata": {},
     "output_type": "execute_result"
    }
   ],
   "source": [
    "# check for low- and high-cardinality categorical features\n",
    "df.select_dtypes(\"object\").nunique()"
   ]
  },
  {
   "cell_type": "markdown",
   "id": "9603275f",
   "metadata": {},
   "source": [
    "There is no observation of high cardinality or low cadinality. "
   ]
  },
  {
   "cell_type": "markdown",
   "id": "928970c4",
   "metadata": {},
   "source": [
    "## Split"
   ]
  },
  {
   "cell_type": "code",
   "execution_count": 62,
   "id": "e68201b3",
   "metadata": {},
   "outputs": [],
   "source": [
    "# Target and feature assigning\n",
    "target = \"severe_damage\"\n",
    "X = df.drop(columns=target)\n",
    "y = df[target]"
   ]
  },
  {
   "cell_type": "code",
   "execution_count": 36,
   "id": "758c58b3",
   "metadata": {
    "scrolled": false
   },
   "outputs": [
    {
     "name": "stdout",
     "output_type": "stream",
     "text": [
      "X_train shape: (609675, 11)\n",
      "y_train shape: (609675,)\n",
      "X_test shape: (152419, 11)\n",
      "y_test shape: (152419,)\n"
     ]
    }
   ],
   "source": [
    "# Randomized train-test split model into 80-20 percentage\n",
    "X_train, X_test, y_train, y_test = train_test_split(\n",
    "    X, y, test_size=0.2, random_state=420\n",
    ")\n",
    "\n",
    "print(\"X_train shape:\", X_train.shape)\n",
    "print(\"y_train shape:\", y_train.shape)\n",
    "print(\"X_test shape:\", X_test.shape)\n",
    "print(\"y_test shape:\", y_test.shape)"
   ]
  },
  {
   "cell_type": "markdown",
   "id": "e50a34a7",
   "metadata": {},
   "source": [
    "## Logistic Regression Model Building"
   ]
  },
  {
   "cell_type": "markdown",
   "id": "3c4308f2",
   "metadata": {},
   "source": [
    "### Baseline"
   ]
  },
  {
   "cell_type": "markdown",
   "id": "9c85b0c6",
   "metadata": {},
   "source": [
    "Baseline is minimum accuracy that the model should perform. "
   ]
  },
  {
   "cell_type": "code",
   "execution_count": null,
   "id": "4d435a33",
   "metadata": {},
   "outputs": [],
   "source": [
    "acc = y_train.value_counts(normalize=True).max()\n",
    "print(\"Baseline Accuracy:\", round(acc, 2))"
   ]
  },
  {
   "cell_type": "markdown",
   "id": "4fc04c5a",
   "metadata": {},
   "source": [
    "If the model only selected the majority group then it would give 60% accurate result, so that would be the baseline(minimum performance expected). "
   ]
  },
  {
   "cell_type": "code",
   "execution_count": null,
   "id": "3f9ebb51",
   "metadata": {},
   "outputs": [],
   "source": [
    "# Buidling Model\n",
    "model = make_pipeline(\n",
    "    OneHotEncoder(use_cat_names=True),\n",
    "    LogisticRegression(max_iter=1000)\n",
    ")\n",
    "\n",
    "# Fit model to training data\n",
    "model.fit(X_train, y_train)"
   ]
  },
  {
   "cell_type": "markdown",
   "id": "406feb92",
   "metadata": {},
   "source": [
    "Calculating the training and test accuracy scores for model"
   ]
  },
  {
   "cell_type": "code",
   "execution_count": null,
   "id": "8472678f",
   "metadata": {},
   "outputs": [],
   "source": [
    "acc_train = accuracy_score(y_train, model.predict(X_train))\n",
    "acc_test = model.score(X_test, y_test)\n",
    "\n",
    "print(\"Training Accuracy:\", round(acc_train, 5))\n",
    "print(\"Test Accuracy:\", round(acc_test, 5))"
   ]
  },
  {
   "cell_type": "markdown",
   "id": "14f3088a",
   "metadata": {},
   "source": [
    "* Accuracy score is beat by the model for both training and testing Model."
   ]
  },
  {
   "cell_type": "markdown",
   "id": "e9679e71",
   "metadata": {},
   "source": [
    "## Communication"
   ]
  },
  {
   "cell_type": "code",
   "execution_count": null,
   "id": "c11c390f",
   "metadata": {},
   "outputs": [],
   "source": [
    "# probabilities of class of top 5 rows\n",
    "y_train_pred_proba = model.predict_proba(X_train)\n",
    "print(y_train_pred_proba[:5])"
   ]
  },
  {
   "cell_type": "code",
   "execution_count": null,
   "id": "c0ae6759",
   "metadata": {},
   "outputs": [],
   "source": [
    "features_LR = model.named_steps[\"onehotencoder\"].get_feature_names_out()\n",
    "importances_LR = model.named_steps[\"logisticregression\"].coef_[0]"
   ]
  },
  {
   "cell_type": "code",
   "execution_count": null,
   "id": "18860c2d",
   "metadata": {},
   "outputs": [],
   "source": [
    "odds_ratios_LR = pd.Series(np.exp(importances_LR), index=features_LR).sort_values()\n",
    "odds_ratios_LR.head()"
   ]
  },
  {
   "cell_type": "code",
   "execution_count": null,
   "id": "c87fbc03",
   "metadata": {},
   "outputs": [],
   "source": [
    "# Horizontal bar chart, five highest coefficients\n",
    "odds_ratios_LR.tail().plot(kind=\"barh\")\n",
    "plt.xlabel(\"Odds Ratio of Logistic Regression\");"
   ]
  },
  {
   "cell_type": "code",
   "execution_count": null,
   "id": "919645c6",
   "metadata": {},
   "outputs": [],
   "source": [
    "# Horizontal bar chart, five smallest coefficients\n",
    "odds_ratios_LR.head().plot(kind=\"barh\")\n",
    "plt.axvline(\n",
    "    minority_class_prop, linestyle=\"--\", color=\"green\")\n",
    "plt.xlabel(\"Odds Ratios of Logistic Regression\");"
   ]
  },
  {
   "cell_type": "markdown",
   "id": "2c99132e",
   "metadata": {},
   "source": [
    "* Observation: The RC material in different part of building will decrease the chances of damage."
   ]
  },
  {
   "cell_type": "markdown",
   "id": "a6a2f77e",
   "metadata": {},
   "source": [
    "## Decision Tree Classifier Model"
   ]
  },
  {
   "cell_type": "code",
   "execution_count": null,
   "id": "78398a26",
   "metadata": {},
   "outputs": [],
   "source": [
    "X_train_2, X_val_2, y_train_2, y_val_2 = train_test_split(X_train, y_train, test_size=0.2, random_state=42)"
   ]
  },
  {
   "cell_type": "code",
   "execution_count": null,
   "id": "0b99334a",
   "metadata": {},
   "outputs": [],
   "source": [
    "# Build Model\n",
    "model2 = make_pipeline(OrdinalEncoder(), DecisionTreeClassifier(random_state=42))\n",
    "# Fit model to training data\n",
    "model2.fit(X_train_2, y_train_2)"
   ]
  },
  {
   "cell_type": "code",
   "execution_count": null,
   "id": "46107dab",
   "metadata": {},
   "outputs": [],
   "source": [
    "# Performance Evaluation\n",
    "acc_train_2 = accuracy_score(y_train_2, model2.predict(X_train_2))\n",
    "acc_val_2 = model2.score(X_val_2, y_val_2)\n",
    "\n",
    "print(\"Training Accuracy:\", round(acc_train_2, 5))\n",
    "print(\"Validation Accuracy:\", round(acc_val_2, 5))"
   ]
  },
  {
   "cell_type": "markdown",
   "id": "8cd6db7f",
   "metadata": {},
   "source": [
    "The performance on Training model is really good but barely crossing the baseline. "
   ]
  },
  {
   "cell_type": "code",
   "execution_count": null,
   "id": "a8bcfa69",
   "metadata": {},
   "outputs": [],
   "source": [
    "# Checking the decision tree classfier depth\n",
    "tree_depth = model2.named_steps[\"decisiontreeclassifier\"].get_depth()\n",
    "print(\"Tree Depth:\", tree_depth)"
   ]
  },
  {
   "cell_type": "markdown",
   "id": "2c62bf20",
   "metadata": {},
   "source": [
    "### Hyperparameter Tuning"
   ]
  },
  {
   "cell_type": "code",
   "execution_count": null,
   "id": "39873c3a",
   "metadata": {},
   "outputs": [],
   "source": [
    "# Checking what would be the best depth parameter for decision Tree Classifier\n",
    "depth_hyperparams = range(1, 60, 2)"
   ]
  },
  {
   "cell_type": "code",
   "execution_count": null,
   "id": "6b92004b",
   "metadata": {},
   "outputs": [],
   "source": [
    "# Creating a hyperparameter list for training and validation accuracy scores\n",
    "# Create empty lists for training and validation accuracy scores\n",
    "training_acc = []\n",
    "validation_acc = []\n",
    "\n",
    "for d in depth_hyperparams:\n",
    "    # create model with 'max_depth' of 'd'\n",
    "    test_model = make_pipeline(\n",
    "        OrdinalEncoder(),\n",
    "        DecisionTreeClassifier(max_depth=d,random_state=420))\n",
    "    # fit model to training data\n",
    "    test_model.fit(X_train_2, y_train_2)\n",
    "    \n",
    "    # Calculating training accuracy score and appending to 'training_acc'\n",
    "    training_acc.append(test_model.score(X_train_2, y_train_2))\n",
    "    \n",
    "    # Calculating Validation accuracy score and appending to 'validation_acc'\n",
    "    validation_acc.append(test_model.score(X_val_2, y_val_2))\n",
    "    \n",
    "# printing top three to see\n",
    "print(\"Training Accuracy Scores:\", training_acc[:3])\n",
    "print(\"Validation Accuracy Scores:\", validation_acc[:3])"
   ]
  },
  {
   "cell_type": "code",
   "execution_count": null,
   "id": "3749d2cb",
   "metadata": {},
   "outputs": [],
   "source": [
    "# Validation Curve\n",
    "plt.plot(depth_hyperparams, training_acc, label=\"Training\")\n",
    "plt.plot(depth_hyperparams, validation_acc, label=\"Validation\")\n",
    "plt.xlabel(\"Depth\")\n",
    "plt.ylabel(\"Accuracy Score\")\n",
    "plt.title(\"Validation Curve\")\n",
    "plt.legend();"
   ]
  },
  {
   "cell_type": "markdown",
   "id": "ee39f3e9",
   "metadata": {},
   "source": [
    "* Observation: The accuracy for both training and validation data giving best performance on the depth value of 10"
   ]
  },
  {
   "cell_type": "markdown",
   "id": "d12e66f0",
   "metadata": {},
   "source": [
    "### Retraining the Decision Tree Classifier with max_depth 10"
   ]
  },
  {
   "cell_type": "code",
   "execution_count": null,
   "id": "86f41c0f",
   "metadata": {},
   "outputs": [],
   "source": [
    "# Retraining Model\n",
    "model2_retrain = make_pipeline(\n",
    "    OrdinalEncoder(), \n",
    "    DecisionTreeClassifier(max_depth = 10, random_state=42))\n",
    "# Fit model to training data\n",
    "model2_retrain.fit(X_train_2, y_train_2)"
   ]
  },
  {
   "cell_type": "code",
   "execution_count": null,
   "id": "daf7d7ff",
   "metadata": {},
   "outputs": [],
   "source": [
    "# Performance Evaluation\n",
    "acc_train_2 = accuracy_score(y_train_2, model2_retrain.predict(X_train_2))\n",
    "acc_val_2 = model2_retrain.score(X_val_2, y_val_2)\n",
    "\n",
    "print(\"Training Accuracy:\", round(acc_train_2, 5))\n",
    "print(\"Validation Accuracy:\", round(acc_val_2, 5))"
   ]
  },
  {
   "cell_type": "code",
   "execution_count": null,
   "id": "8eca9e56",
   "metadata": {},
   "outputs": [],
   "source": [
    "test_acc = model2_retrain.score(X_test, y_test)\n",
    "print(\"Test Accuracy:\", round(test_acc, 5))"
   ]
  },
  {
   "cell_type": "markdown",
   "id": "05030289",
   "metadata": {},
   "source": [
    " model performing well bitting both baseline and Logistic Regression."
   ]
  },
  {
   "cell_type": "markdown",
   "id": "24dd6581",
   "metadata": {},
   "source": [
    "## Communication "
   ]
  },
  {
   "cell_type": "code",
   "execution_count": null,
   "id": "61b845c4",
   "metadata": {},
   "outputs": [],
   "source": [
    "# plot of decision Tree Classifier\n",
    "fig, ax = plt.subplots(figsize=(25, 12))\n",
    "# Plot tree\n",
    "plot_tree(\n",
    "    decision_tree=model2_retrain.named_steps[\"decisiontreeclassifier\"],\n",
    "    feature_names=X_train_2.columns,\n",
    "    filled=True,  # Color leaf with class\n",
    "    rounded=True,  # Round leaf edges\n",
    "    proportion=True,  # Display proportion of classes in leaf\n",
    "    max_depth=3,  # Only display first 3 levels\n",
    "    fontsize=12,  # Enlarge font\n",
    "    ax=ax,  # Place in figure axis\n",
    ");"
   ]
  },
  {
   "cell_type": "markdown",
   "id": "a6af40e2",
   "metadata": {},
   "source": [
    "* Observation From Decision Tree Classfier\n",
    "1. Gini impurity get lower and lower by distribution.\n",
    "2. Nodes get pure\n",
    "3. The model get bluer the model strongly predicts the severely damage structure. \n",
    "4. The model get orange the model strongly predicts the not severely damage structure. "
   ]
  },
  {
   "cell_type": "code",
   "execution_count": null,
   "id": "93ada812",
   "metadata": {},
   "outputs": [],
   "source": [
    "# Odds Ratios or Feature Importance\n",
    "features_DT = X_train_2.columns\n",
    "importances_DT = model2_retrain.named_steps[\"decisiontreeclassifier\"].feature_importances_\n",
    "print(\"Features:\", features[:3])\n",
    "print(\"Importances:\", importances[:3])"
   ]
  },
  {
   "cell_type": "code",
   "execution_count": null,
   "id": "124e1a83",
   "metadata": {},
   "outputs": [],
   "source": [
    "# Making a dataframe of 'Odds Ratios'\n",
    "feat_imp = pd.Series(importances_DT, index=features_DT).sort_values()\n",
    "feat_imp.head()"
   ]
  },
  {
   "cell_type": "code",
   "execution_count": null,
   "id": "f3761045",
   "metadata": {},
   "outputs": [],
   "source": [
    "# Create horizontal bar chart of odds Ratios\n",
    "feat_imp.plot(kind=\"barh\")\n",
    "plt.xlabel(\"Gini Importance\")\n",
    "plt.ylabel(\"Features\")\n",
    "plt.title(\"Gini Importance of features\");"
   ]
  },
  {
   "cell_type": "markdown",
   "id": "472dcad3",
   "metadata": {},
   "source": [
    "* Observation: Superstructure feature giving importance 67%  to model then foundation type and other features. "
   ]
  }
 ],
 "metadata": {
  "kernelspec": {
   "display_name": "Python 3 (ipykernel)",
   "language": "python",
   "name": "python3"
  },
  "language_info": {
   "codemirror_mode": {
    "name": "ipython",
    "version": 3
   },
   "file_extension": ".py",
   "mimetype": "text/x-python",
   "name": "python",
   "nbconvert_exporter": "python",
   "pygments_lexer": "ipython3",
   "version": "3.10.9"
  }
 },
 "nbformat": 4,
 "nbformat_minor": 5
}
